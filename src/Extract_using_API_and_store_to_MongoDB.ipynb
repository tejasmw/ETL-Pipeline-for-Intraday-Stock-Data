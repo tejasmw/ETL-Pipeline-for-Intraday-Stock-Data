{
 "cells": [
  {
   "cell_type": "code",
   "execution_count": 5,
   "id": "ab3b580a",
   "metadata": {},
   "outputs": [
    {
     "name": "stdout",
     "output_type": "stream",
     "text": [
      "Data successfully stored in MongoDB!\n"
     ]
    }
   ],
   "source": [
    "import requests\n",
    "from pymongo import MongoClient\n",
    "\n",
    "# MongoDB connection details\n",
    "mongo_host = \"localhost\"\n",
    "mongo_port = 27017\n",
    "database_name = \"apple\"\n",
    "collection_name = \"intraday_r\"\n",
    "\n",
    "# Alpha Vantage API details\n",
    "api_key = \"your_alpha_vantage_api_key\"\n",
    "symbol = \"AAPL\"\n",
    "interval = \"5min\"  # Example: 5-minute interval data\n",
    "url = f\"https://www.alphavantage.co/query?function=TIME_SERIES_INTRADAY&symbol={symbol}&interval={interval}&apikey={api_key}\"\n",
    "\n",
    "def get_data(url):\n",
    "    response = requests.get(url)\n",
    "    \n",
    "    # Check if the request was successful\n",
    "    if response.status_code == 200:\n",
    "        return response.json()\n",
    "    else:\n",
    "        print(\"Failed to fetch data from the API. Status code:\", response.status_code)\n",
    "        return None\n",
    "\n",
    "def connect_to_mongodb():\n",
    "    # Create a MongoDB client\n",
    "    client = MongoClient(mongo_host, mongo_port)\n",
    "\n",
    "    # Access the specified database and collection\n",
    "    db = client[database_name]\n",
    "    collection = db[collection_name]\n",
    "    \n",
    "    return collection\n",
    "\n",
    "def store_individual_records(collection, data):\n",
    "    # Extract the time series data\n",
    "    time_series = data.get(\"Time Series (5min)\", {})\n",
    "    \n",
    "    # Convert each record to a document and insert it into MongoDB\n",
    "    records = []\n",
    "    for timestamp, values in time_series.items():\n",
    "        record = {\n",
    "            \"symbol\": symbol,\n",
    "            \"timestamp\": timestamp,\n",
    "            \"open\": float(values[\"1. open\"]),\n",
    "            \"high\": float(values[\"2. high\"]),\n",
    "            \"low\": float(values[\"3. low\"]),\n",
    "            \"close\": float(values[\"4. close\"]),\n",
    "            \"volume\": int(values[\"5. volume\"])\n",
    "        }\n",
    "        records.append(record)\n",
    "    \n",
    "    # Insert all records as separate documents\n",
    "    if records:\n",
    "        result = collection.insert_many(records)\n",
    "        #print(\"Inserted document IDs:\", result.inserted_ids)\n",
    "    else:\n",
    "        print(\"No records to store.\")\n",
    "\n",
    "if __name__ == \"__main__\":\n",
    "    # Fetch data from the API\n",
    "    data = get_data(url)\n",
    "    \n",
    "    if data:\n",
    "        # Connect to MongoDB and get the collection\n",
    "        collection = connect_to_mongodb()\n",
    "        \n",
    "        # Store individual records as separate documents in MongoDB\n",
    "        store_individual_records(collection, data)\n",
    "        \n",
    "        print(\"Data successfully stored in MongoDB!\")\n",
    "    else:\n",
    "        print(\"No data to store.\")\n"
   ]
  },
  {
   "cell_type": "code",
   "execution_count": null,
   "id": "eb4d56e8",
   "metadata": {},
   "outputs": [],
   "source": []
  }
 ],
 "metadata": {
  "kernelspec": {
   "display_name": "Python 3 (ipykernel)",
   "language": "python",
   "name": "python3"
  },
  "language_info": {
   "codemirror_mode": {
    "name": "ipython",
    "version": 3
   },
   "file_extension": ".py",
   "mimetype": "text/x-python",
   "name": "python",
   "nbconvert_exporter": "python",
   "pygments_lexer": "ipython3",
   "version": "3.11.5"
  }
 },
 "nbformat": 4,
 "nbformat_minor": 5
}
